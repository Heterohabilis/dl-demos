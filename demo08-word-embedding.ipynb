{
  "cells": [
    {
      "cell_type": "markdown",
      "metadata": {
        "id": "view-in-github",
        "colab_type": "text"
      },
      "source": [
        "<a href=\"https://colab.research.google.com/github/rtealwitter/dl-demos/blob/main/demo08-word-embedding.ipynb\" target=\"_parent\"><img src=\"https://colab.research.google.com/assets/colab-badge.svg\" alt=\"Open In Colab\"/></a>"
      ]
    },
    {
      "cell_type": "markdown",
      "metadata": {
        "id": "YpYIBU4rQG4t"
      },
      "source": [
        "# Harry Potter and Word Embedding\n",
        "\n",
        "We view words as having meaning but our representation of them is arbitrary and meaningless to computers.\n",
        "When working with natural language, the first step is to convert words into vectors.\n",
        "\n",
        "Our goal is to represent words in a vector space where similar words are close to each other. The problem is challenging because the meaning of words is not transitive. For example, the word \"wizard\" is similar to both \"witch\" and \"man\" but \"witch\" is not similar to \"man\".\n",
        "\n",
        "### word2vec\n",
        "\n",
        "A popular approach for getting meaninful word embeddings is called word2vec and first proposed in [this](https://arxiv.org/pdf/1301.3781.pdf) paper. The key concept is to find words that are similar to each other. We do this by scanning text and identifying words that appear next to each other as similar. Consider two similar words $x$ and $y$.\n",
        "\n",
        "![](https://lilianweng.github.io/posts/2017-10-15-word-embedding/word2vec-skip-gram.png)\n",
        "\n",
        "The idea is to represent $x$ as a one-hot encoding (similar to how we represent classes). Call the dimension of the space $V$ (this is the number of unique words). Then we apply a fully connected layer to represent the one-hot encoded word in a small hidden dimension $N$. The hidden dimension representation is the vector representing the word.\n",
        "\n",
        "In order to make the representation meaningful, we will apply a second fully connected layer to convert the hidden dimension back to the one-hot encoded dimension $V$. Now, we train both layers using cross entropy loss so that on input $x$, we get output close to $y$.\n",
        "\n",
        "Now there are two issues with this approach:\n",
        "\n",
        "* We train two layers but we only use the first word one to encode a word.\n",
        "\n",
        "* We really want the embedding of the two similar words $x$ and $y$ to be close. However, the loss function we use is more complicated.\n",
        "\n",
        "### Contrastive Learning\n",
        "\n",
        "A more direct approach to get meaningful vector representation is to use *contrastive learning*. The key concept is that we have positive pairs $(x,y)$ whose vector representations we want to be close and negative pairs $(x,z)$ whose vector representations we want to be far apart.\n",
        "\n",
        "Let $f$ be the network we apply to the words to embed them. If we use the inner product as our notion of similarity, then the loss function is\n",
        "\n",
        "$$ L(f) =\n",
        "\\sum_{\\text{positive pairs $(x,y)$}} (\\langle f(x),f(y) \\rangle-1)^2\n",
        "+ \\sum_{\\text{negative pairs $(x,z)$}} (\\langle f(x),f(z) \\rangle)^2\n",
        "$$\n",
        "\n",
        "This forces the inner product between positive pairs to be large and the inner product between negative pairs to be small.\n",
        "\n",
        "Note: The loss function we just described is one of many loss functions used for contrastive learning.\n",
        "\n",
        "Because contrastive learning tends to work better and is more direct, we will show how to use it to embed words today. The text we'll use for finding positive and negative pairs of words is Harry Potter!\n"
      ]
    },
    {
      "cell_type": "markdown",
      "metadata": {
        "id": "HYiA684zOt4F"
      },
      "source": [
        "## Libraries\n",
        "\n",
        "As always, we rely on a lot of libraries."
      ]
    },
    {
      "cell_type": "code",
      "execution_count": 1,
      "metadata": {
        "id": "fq8pZAK27DDz"
      },
      "outputs": [],
      "source": [
        "import pandas as pd\n",
        "import re\n",
        "import torch\n",
        "import torch.nn as nn\n",
        "import numpy as np\n",
        "import matplotlib\n",
        "from matplotlib.patches import Rectangle\n",
        "import matplotlib.pyplot as plt\n",
        "import urllib.request\n",
        "import numpy\n",
        "from torch.utils.data import DataLoader\n",
        "from torch.utils.data import Dataset\n",
        "import torch.nn.functional as F"
      ]
    },
    {
      "cell_type": "markdown",
      "metadata": {
        "id": "nLHxU1tqOyvA"
      },
      "source": [
        "## Loading Text\n",
        "\n",
        "We load the text of Harry Potter from a website and preprocess it. In particular, we only want the chapters of the book and we make all words lowercase. Finally, we remove annoying characters like new lines."
      ]
    },
    {
      "cell_type": "code",
      "execution_count": 2,
      "metadata": {
        "id": "wz2yu_chQG2z"
      },
      "outputs": [],
      "source": [
        "url1 = \"https://raw.githubusercontent.com/bobdeng/owlreader/7c3e507853b07273421d83e220c2ef219b8b6122/ERead/assets/books/Harry%20Potter%20and%20the%20Sorcerer's%20Stone.txt\"\n",
        "url2 = \"https://raw.githubusercontent.com/bobdeng/owlreader/7c3e507853b07273421d83e220c2ef219b8b6122/ERead/assets/books/Harry%20Potter%20and%20the%20Chamber%20of%20Secrets.txt\"\n",
        "url3 = \"https://raw.githubusercontent.com/bobdeng/owlreader/7c3e507853b07273421d83e220c2ef219b8b6122/ERead/assets/books/Harry%20Potter%20and%20the%20Prisoner%20of%20Azkaban%20.txt\"\n",
        "url4 = \"https://raw.githubusercontent.com/bobdeng/owlreader/7c3e507853b07273421d83e220c2ef219b8b6122/ERead/assets/books/Harry%20Potter%20and%20the%20Goblet%20of%20Fire.txt\"\n",
        "url5 = \"https://raw.githubusercontent.com/bobdeng/owlreader/7c3e507853b07273421d83e220c2ef219b8b6122/ERead/assets/books/Harry%20Potter%20and%20the%20Order%20of%20the%20Phoenix.txt\"\n",
        "url6 = \"https://raw.githubusercontent.com/bobdeng/owlreader/7c3e507853b07273421d83e220c2ef219b8b6122/ERead/assets/books/Harry%20Potter%20and%20The%20Half-Blood%20Prince.txt\"\n",
        "url7 = \"https://raw.githubusercontent.com/bobdeng/owlreader/7c3e507853b07273421d83e220c2ef219b8b6122/ERead/assets/books/Harry%20Potter%20and%20the%20Deathly%20Hallows%20.txt\"\n",
        "\n",
        "def read_file(url):\n",
        "  remove = ['\\u3000', '\\n', '¬', ',', '.']\n",
        "  with urllib.request.urlopen(url) as webpage:\n",
        "    text = webpage.read().decode(\"utf8\").lower()\n",
        "    for to_remove in remove:\n",
        "      text = text.replace(to_remove, '')\n",
        "  return text\n",
        "\n",
        "text1 = read_file(url1)\n",
        "text2 = read_file(url2)\n",
        "text3 = read_file(url3)\n",
        "text4 = read_file(url4)\n",
        "text5 = read_file(url5)\n",
        "text6 = read_file(url6)\n",
        "text7 = read_file(url7)\n",
        "\n",
        "text = text1 + text2 + text3 + text4 + text5 + text6 + text7"
      ]
    },
    {
      "cell_type": "markdown",
      "metadata": {
        "id": "nTehzSQtPGaZ"
      },
      "source": [
        "## Tokenizing\n",
        "\n",
        "Now we tokenize the text. That is, we turn the string into a list of words."
      ]
    },
    {
      "cell_type": "code",
      "execution_count": 3,
      "metadata": {
        "id": "ITb7-sfhahjs"
      },
      "outputs": [],
      "source": [
        "def get_frequent(tokens, threshold=50):\n",
        "  frequency = {token : 0 for token in set(tokens)}\n",
        "  for token in tokens:\n",
        "    frequency[token] += 1\n",
        "\n",
        "  frequent_tokens = []\n",
        "  for token in tokens:\n",
        "    if frequency[token] >= threshold:\n",
        "      frequent_tokens += [token]\n",
        "\n",
        "  return frequent_tokens, len(set(tokens))"
      ]
    },
    {
      "cell_type": "code",
      "execution_count": 4,
      "metadata": {
        "colab": {
          "base_uri": "https://localhost:8080/"
        },
        "id": "eJEVyoWf8J73",
        "outputId": "6160be7a-0e9e-48e1-d1a7-32d3aaaeddd5"
      },
      "outputs": [
        {
          "output_type": "stream",
          "name": "stdout",
          "text": [
            "['harry', 'potter', 'and', 'the', 'boy', 'who', 'and', 'mrs', 'dursley', 'of', 'number', 'four', 'privet', 'drive', 'were', 'proud', 'to', 'say', 'that', 'they', 'were', 'perfectly', 'normal', 'thank', 'you', 'very', 'much', 'they', 'were', 'the', 'last', 'people', 'youd', 'expect', 'to', 'be', 'in', 'anything', 'strange', 'or', 'because', 'they', 'just', 'didnt', 'hold', 'with', 'such', 'dursley', 'was', 'the', 'of', 'a', 'called', 'which', 'made', 'he', 'was', 'a', 'big', 'man', 'with', 'hardly', 'any', 'neck', 'although', 'he', 'did', 'have', 'a', 'very', 'large', 'mrs', 'dursley', 'was', 'thin', 'and', 'and', 'had', 'nearly', 'twice', 'the', 'usual', 'amount', 'of', 'neck', 'which', 'came', 'in', 'very', 'useful', 'as', 'she', 'spent', 'so', 'much', 'of', 'her', 'time', 'over', 'garden']\n"
          ]
        }
      ],
      "source": [
        "letters = 'abcdefghijklmnopqrstuvwxyz'\n",
        "def process_word(word):\n",
        "  return ''.join([letter for letter in word if letter in letters])\n",
        "tokens = [process_word(word) for word in text.split(' ')]\n",
        "\n",
        "tokens, num_tokens = get_frequent(tokens)\n",
        "print(tokens[:100])"
      ]
    },
    {
      "cell_type": "code",
      "execution_count": 5,
      "metadata": {
        "colab": {
          "base_uri": "https://localhost:8080/"
        },
        "id": "HaRAaxLtNlk9",
        "outputId": "5102c043-8e20-480e-9509-610040884d2e"
      },
      "outputs": [
        {
          "output_type": "stream",
          "name": "stdout",
          "text": [
            "There are 971182 total tokens and 38813 unique tokens.\n"
          ]
        }
      ],
      "source": [
        "print(f'There are {len(tokens)} total tokens and {num_tokens} unique tokens.')"
      ]
    },
    {
      "cell_type": "markdown",
      "metadata": {
        "id": "wY_eeC-gPcK8"
      },
      "source": [
        "Now we map from each word (token) to a unique index and back. We will use this for the one hot encoding of the word."
      ]
    },
    {
      "cell_type": "code",
      "execution_count": 6,
      "metadata": {
        "id": "eyw7PkfQ-iAb"
      },
      "outputs": [],
      "source": [
        "def mapping(tokens):\n",
        "  word_to_id = {}\n",
        "  id_to_word = {}\n",
        "\n",
        "  for i, token in enumerate(set(tokens)):\n",
        "    word_to_id[token] = i\n",
        "    id_to_word[i] = token\n",
        "\n",
        "  return word_to_id, id_to_word\n",
        "\n",
        "WORD_TO_ID, ID_TO_WORD = mapping(tokens)\n",
        "num_tokens = len(set(tokens))"
      ]
    },
    {
      "cell_type": "markdown",
      "metadata": {
        "id": "SNu4q1OsPkG6"
      },
      "source": [
        "The next step is to get the dataset we will use. We do this by iterating through the tokens with a sliding window. For each word $w$, we look at its neighbors $u$ and add a data point $(w,u)$ where we need to predict $u$ on input $w$. For now, we store the data as indices to avoid carrying around a bunch of zeros in the one hot encoding."
      ]
    },
    {
      "cell_type": "code",
      "execution_count": 7,
      "metadata": {
        "id": "g0jJf78x_bRh"
      },
      "outputs": [],
      "source": [
        "def convert(x):\n",
        "  return torch.tensor(np.asarray(x)).long()\n",
        "\n",
        "def process(tokens, window=2, threshold=100):\n",
        "  frequency = {WORD_TO_ID[token]: 0 for token in set(tokens)}\n",
        "  X, y = [], []\n",
        "  for i in range(len(tokens)-1):\n",
        "    index_i = WORD_TO_ID[tokens[i]]\n",
        "    # Ensure common words like \"the\" don't appear too frequently\n",
        "    if frequency[index_i] < threshold:\n",
        "      for j in list(range(max(0,i-window), min(len(tokens), i+window+1))):\n",
        "        index_j = WORD_TO_ID[tokens[j]]\n",
        "        #if frequency[index_j] < threshold:\n",
        "        X += [index_i]\n",
        "        y += [index_j]\n",
        "        frequency[index_i] += 1\n",
        "        frequency[index_j] += 1\n",
        "  return X, y"
      ]
    },
    {
      "cell_type": "markdown",
      "metadata": {
        "id": "S8s2bBqjXMO3"
      },
      "source": [
        "# Initialization\n",
        "\n",
        "Now we define the custom class we need so we can wrap the nice DataLoader function around our dataset."
      ]
    },
    {
      "cell_type": "code",
      "execution_count": 8,
      "metadata": {
        "id": "tTdzbQ9nWck0"
      },
      "outputs": [],
      "source": [
        "class DataSet(Dataset):\n",
        "  def __init__(self, tokens):\n",
        "    X,y = process(tokens)\n",
        "    self.X = X\n",
        "    self.y = y\n",
        "\n",
        "  def __len__(self):\n",
        "    return len(self.X)\n",
        "\n",
        "  def __getitem__(self, idx):\n",
        "    return self.X[idx], self.y[idx]\n",
        "\n",
        "dataloader = DataLoader(DataSet(tokens), batch_size = 128, shuffle=True)"
      ]
    },
    {
      "cell_type": "code",
      "execution_count": 9,
      "metadata": {
        "id": "fI-iOCP0UivK"
      },
      "outputs": [],
      "source": [
        "class Model(nn.Module):\n",
        "  def __init__(self, num_tokens, embed_dim):\n",
        "    super(Model, self).__init__()\n",
        "    self.embedding = nn.Embedding(num_tokens, embed_dim)\n",
        "\n",
        "  def forward(self, x):\n",
        "    return self.embedding(x)\n"
      ]
    },
    {
      "cell_type": "code",
      "execution_count": 10,
      "metadata": {
        "id": "4g_v-qYm88dT"
      },
      "outputs": [],
      "source": [
        "\n",
        "def contrastive_loss(X_embedded, y_embedded):\n",
        "  # X_embedded (batch_size, embed_dim)\n",
        "  # y_embedded (batch_size, embed_dim)\n",
        "  batch_size = len(X_embedded)\n",
        "  gram = X_embedded @ y_embedded.T # (batch_size, batch_size)\n",
        "  difference = gram - torch.eye(batch_size).to(DEVICE)\n",
        "  return torch.sqrt(torch.square(difference).sum()/batch_size**2)"
      ]
    },
    {
      "cell_type": "markdown",
      "metadata": {
        "id": "_W0DM6ZXQuXR"
      },
      "source": [
        "Finally, we're ready to initialize the architecture, loss, and optimizer. Notice the simplicity of the model!"
      ]
    },
    {
      "cell_type": "code",
      "execution_count": 11,
      "metadata": {
        "id": "E5bwwa809pd5"
      },
      "outputs": [],
      "source": [
        "DEVICE = torch.device('cuda' if torch.cuda.is_available() else 'cpu')\n",
        "embed_dim = 64\n",
        "\n",
        "model = Model(num_tokens, embed_dim).to(DEVICE)\n",
        "\n",
        "losses = []\n",
        "\n",
        "optimizer = torch.optim.Adam(model.parameters(), lr=0.001)"
      ]
    },
    {
      "cell_type": "markdown",
      "metadata": {
        "id": "6-kIbSDIXGqF"
      },
      "source": [
        "## Training\n",
        "\n",
        "Now let's train."
      ]
    },
    {
      "cell_type": "code",
      "execution_count": 12,
      "metadata": {
        "colab": {
          "base_uri": "https://localhost:8080/"
        },
        "id": "Zlic9nmfD2tC",
        "outputId": "c49272c7-e5fb-445d-b209-865174d0d224"
      },
      "outputs": [
        {
          "output_type": "stream",
          "name": "stdout",
          "text": [
            "Epoch: 1 \t Loss: 5.027184009552002\n",
            "Epoch: 2 \t Loss: 3.192918300628662\n",
            "Epoch: 3 \t Loss: 1.7395877838134766\n",
            "Epoch: 4 \t Loss: 1.1821469068527222\n",
            "Epoch: 5 \t Loss: 0.714796245098114\n",
            "Epoch: 6 \t Loss: 0.395793616771698\n",
            "Epoch: 7 \t Loss: 0.29397016763687134\n",
            "Epoch: 8 \t Loss: 0.18231192231178284\n",
            "Epoch: 9 \t Loss: 0.13821038603782654\n",
            "Epoch: 10 \t Loss: 0.13866692781448364\n",
            "Epoch: 11 \t Loss: 0.10848765075206757\n",
            "Epoch: 12 \t Loss: 0.10664348304271698\n",
            "Epoch: 13 \t Loss: 0.10389314591884613\n",
            "Epoch: 14 \t Loss: 0.10367842018604279\n",
            "Epoch: 15 \t Loss: 0.10630057752132416\n",
            "Epoch: 16 \t Loss: 0.10346873849630356\n",
            "Epoch: 17 \t Loss: 0.10473118722438812\n",
            "Epoch: 18 \t Loss: 0.10415786504745483\n",
            "Epoch: 19 \t Loss: 0.10364694893360138\n",
            "Epoch: 20 \t Loss: 0.1035253033041954\n"
          ]
        }
      ],
      "source": [
        "num_epochs = 20\n",
        "\n",
        "for epoch in range(1, num_epochs+1):\n",
        "  total_loss = 0\n",
        "  for (X,y) in dataloader:\n",
        "    X = X.to(DEVICE)\n",
        "    y = y.to(DEVICE)\n",
        "    optimizer.zero_grad()\n",
        "    X_embedded = model(X)\n",
        "    y_embedded = model(y)\n",
        "    loss = contrastive_loss(X_embedded, y_embedded)\n",
        "    loss.backward()\n",
        "    optimizer.step()\n",
        "    total_loss += loss.item()\n",
        "  losses += [total_loss/len(dataloader)]\n",
        "  print(f'Epoch: {epoch} \\t Loss: {loss}')\n"
      ]
    },
    {
      "cell_type": "markdown",
      "metadata": {
        "id": "8x_ziNQHRAVt"
      },
      "source": [
        "## Exploring the Embeddings"
      ]
    },
    {
      "cell_type": "markdown",
      "metadata": {
        "id": "70TH9Lcej1SF"
      },
      "source": [
        "What is the next word predicted?"
      ]
    },
    {
      "cell_type": "code",
      "execution_count": 22,
      "metadata": {
        "colab": {
          "base_uri": "https://localhost:8080/"
        },
        "id": "zB3kOnsbkJHA",
        "outputId": "ea1361ae-4831-490a-aab2-783f595d5a4c"
      },
      "outputs": [
        {
          "output_type": "stream",
          "name": "stdout",
          "text": [
            "witch\n",
            "tall\n",
            "fully\n",
            "dressed\n",
            "phineas\n",
            "nigellus\n",
            "wizard\n",
            "smiling\n",
            "grindelwald\n",
            "circle\n"
          ]
        }
      ],
      "source": [
        "target = torch.tensor([WORD_TO_ID['wizard']]).to(DEVICE)\n",
        "candidates = torch.tensor(list(ID_TO_WORD.keys())).to(DEVICE)\n",
        "candidates_embedded = model(candidates) # (num_tokens, embed_dim)\n",
        "target_embedded = model(target) # (embed_dim)\n",
        "\n",
        "similarities = candidates_embedded @ target_embedded.T\n",
        "_, indices = torch.topk(similarities.squeeze(), 10)\n",
        "\n",
        "for index in indices:\n",
        "  print(ID_TO_WORD[index.item()])"
      ]
    },
    {
      "cell_type": "markdown",
      "metadata": {
        "id": "Oogwe4ErUFNd"
      },
      "source": [
        "To investigate the model, let's visualize the embeddings of the words."
      ]
    },
    {
      "cell_type": "code",
      "execution_count": 14,
      "metadata": {
        "colab": {
          "base_uri": "https://localhost:8080/",
          "height": 406
        },
        "id": "eT_s4422gMUw",
        "outputId": "72612335-8f9f-44ca-df26-b2f07547f8bf"
      },
      "outputs": [
        {
          "output_type": "display_data",
          "data": {
            "text/plain": [
              "<Figure size 640x480 with 7 Axes>"
            ],
            "image/png": "[encoded data removed]"
          },
          "metadata": {}
        }
      ],
      "source": [
        "def embed(word):\n",
        "  return model(torch.tensor(WORD_TO_ID[word]).to(DEVICE)).detach().cpu().numpy()\n",
        "\n",
        "words = ['slytherin', 'gryffindor', 'hufflepuff', 'ravenclaw',\n",
        "         'voldemort', 'snape', 'dumbledore']\n",
        "embeddings = [embed(word) for word in words]\n",
        "num_embed = len(embeddings)\n",
        "cmap = matplotlib.cm.coolwarm\n",
        "fig, axes = plt.subplots(num_embed, 1)\n",
        "norm = matplotlib.colors.Normalize(vmin=embeddings[0].min(), vmax=embeddings[0].max())\n",
        "for idx in range(num_embed):\n",
        "  ax = axes[idx]\n",
        "  embedding = embeddings[idx]\n",
        "  for i in range(embed_dim):\n",
        "    ax.add_patch(Rectangle((i/embed_dim, 0),.05,1, color=cmap(norm(embedding[i]))))\n",
        "  ax.text(1.02, .5, words[idx], fontsize=12)\n",
        "  ax.axis('off')\n",
        "plt.show()"
      ]
    }
  ],
  "metadata": {
    "accelerator": "GPU",
    "colab": {
      "provenance": [],
      "include_colab_link": true
    },
    "gpuClass": "standard",
    "kernelspec": {
      "display_name": "Python 3.10.0 64-bit ('3.10.0')",
      "language": "python",
      "name": "python3"
    },
    "language_info": {
      "name": "python",
      "version": "3.10.0"
    },
    "vscode": {
      "interpreter": {
        "hash": "6aea8d84a86a1280a34780710c5e478b9c6b3c016841b907182e7484363820b1"
      }
    }
  },
  "nbformat": 4,
  "nbformat_minor": 0
}